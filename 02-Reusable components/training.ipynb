{
 "cells": [
  {
   "attachments": {},
   "cell_type": "markdown",
   "metadata": {},
   "source": [
    "# Training on scale"
   ]
  },
  {
   "attachments": {},
   "cell_type": "markdown",
   "metadata": {},
   "source": [
    "### Create an environment"
   ]
  },
  {
   "cell_type": "code",
   "execution_count": 8,
   "metadata": {},
   "outputs": [
    {
     "name": "stdout",
     "output_type": "stream",
     "text": [
      "Overwriting Environments/create-environment.yml\n"
     ]
    }
   ],
   "source": [
    "%%writefile 'Environments/create-environment.yml'\n",
    "$schema: https://azuremlschemas.azureedge.net/latest/environment.schema.json\n",
    "name: ignite-transferlearning-pytorch\n",
    "version: 1\n",
    "image: mcr.microsoft.com/azureml/curated/pytorch-1.10-ubuntu18.04-py38-cuda11-gpu:36\n",
    "description: Training enviroment PyTorch 1.10 / CUDA 11 / GPU"
   ]
  },
  {
   "cell_type": "code",
   "execution_count": 5,
   "metadata": {},
   "outputs": [
    {
     "name": "stdout",
     "output_type": "stream",
     "text": [
      "\u001b[36mCommand group 'config' is experimental and under development. Reference and support levels: https://aka.ms/CLI_refstatus\u001b[0m\n",
      "\u001b[36mCommand group 'config' is experimental and under development. Reference and support levels: https://aka.ms/CLI_refstatus\u001b[0m\n",
      "{\n",
      "  \"creation_context\": {\n",
      "    \"created_at\": \"2023-03-03T16:58:32.036025+00:00\",\n",
      "    \"created_by\": \"Henk Boelman\",\n",
      "    \"created_by_type\": \"User\",\n",
      "    \"last_modified_at\": \"2023-03-03T16:58:32.036025+00:00\",\n",
      "    \"last_modified_by\": \"Henk Boelman\",\n",
      "    \"last_modified_by_type\": \"User\"\n",
      "  },\n",
      "  \"description\": \"Training enviroment PyTorch 1.10 / CUDA 11 / GPU\",\n",
      "  \"id\": \"azureml:/subscriptions/431dbae5-40ca-438a-8daf-77d7d5580b41/resourceGroups/Cybertron-rg/providers/Microsoft.MachineLearningServices/workspaces/Cybertron/environments/ignite-transferlearning-pytorch/versions/1\",\n",
      "  \"image\": \"mcr.microsoft.com/azureml/curated/pytorch-1.10-ubuntu18.04-py38-cuda11-gpu:36\",\n",
      "  \"name\": \"ignite-transferlearning-pytorch\",\n",
      "  \"os_type\": \"linux\",\n",
      "  \"resourceGroup\": \"Cybertron-rg\",\n",
      "  \"tags\": {},\n",
      "  \"version\": \"1\"\n",
      "}\n",
      "\u001b[0m"
     ]
    }
   ],
   "source": [
    "!az config set defaults.workspace=\"Cybertron\"\n",
    "!az config set defaults.group=\"Cybertron-rg\"\n",
    "     \n",
    "!az ml environment create --file Environments/create-environment.yml"
   ]
  },
  {
   "attachments": {},
   "cell_type": "markdown",
   "metadata": {},
   "source": [
    "### Create components"
   ]
  },
  {
   "cell_type": "code",
   "execution_count": 9,
   "metadata": {},
   "outputs": [
    {
     "name": "stdout",
     "output_type": "stream",
     "text": [
      "Overwriting Components/train.yml\n"
     ]
    }
   ],
   "source": [
    "%%writefile 'Components/train.yml'\n",
    "$schema: https://azuremlschemas.azureedge.net/latest/commandComponent.schema.json\n",
    "type: command\n",
    "\n",
    "name: Ignite-TrainModel\n",
    "display_name: Train Pytorch Classification Model\n",
    "version: 1\n",
    "\n",
    "inputs:\n",
    "  training_data:\n",
    "    type: path\n",
    "  epochs:\n",
    "    type: integer\n",
    "    default: 8\n",
    "  learning_rate:\n",
    "    type: number\n",
    "    default: 0.001\n",
    "  momentum: \n",
    "    type: number\n",
    "    default: 0.9\n",
    "  tag: \n",
    "    type: string\n",
    "    default: \"Ignite\"\n",
    "\n",
    "outputs:\n",
    "  train_output:\n",
    "    type: path\n",
    "\n",
    "code: ./src\n",
    "\n",
    "environment: azureml:ignite-transferlearning-pytorch:1\n",
    "\n",
    "command: python train.py --data_path ${{inputs.training_data}} --model_output_path ${{outputs.train_output}} --num_epochs ${{inputs.epochs}} --learning_rate ${{inputs.learning_rate}} --momentum ${{inputs.momentum}} --tag ${{inputs.tag}} "
   ]
  },
  {
   "cell_type": "code",
   "execution_count": null,
   "metadata": {},
   "outputs": [],
   "source": []
  }
 ],
 "metadata": {
  "kernelspec": {
   "display_name": "Python 3",
   "language": "python",
   "name": "python3"
  },
  "language_info": {
   "codemirror_mode": {
    "name": "ipython",
    "version": 3
   },
   "file_extension": ".py",
   "mimetype": "text/x-python",
   "name": "python",
   "nbconvert_exporter": "python",
   "pygments_lexer": "ipython3",
   "version": "3.10.4"
  },
  "orig_nbformat": 4
 },
 "nbformat": 4,
 "nbformat_minor": 2
}
